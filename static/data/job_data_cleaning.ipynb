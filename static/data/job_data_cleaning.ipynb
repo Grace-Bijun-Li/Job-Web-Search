{
 "cells": [
  {
   "cell_type": "code",
   "execution_count": null,
   "metadata": {},
   "outputs": [],
   "source": [
    "import pandas as pd"
   ]
  },
  {
   "cell_type": "code",
   "execution_count": null,
   "metadata": {},
   "outputs": [],
   "source": [
    "# read in the job data from Glassdoor\n",
    "job_df = pd.read_csv('glassdoor_jobs_with_index.csv')\n",
    "job_df.head()"
   ]
  },
  {
   "cell_type": "code",
   "execution_count": null,
   "metadata": {},
   "outputs": [],
   "source": [
    "# read in the lat & lng data and keep only the needed info\n",
    "lnglat = pd.read_csv('uscities.csv') #csv downloaded from Simple Maps\n",
    "lnglat = lnglat[['city','state_id','lat','lng']]\n",
    "lnglat.head()"
   ]
  },
  {
   "cell_type": "code",
   "execution_count": null,
   "metadata": {},
   "outputs": [],
   "source": [
    "# split the location to city and state columns\n",
    "job_df[['city','state_id']] = job_df.location.str.split(',',expand=True)\n",
    "job_df['state_id'] = job_df['state_id'].str.strip()\n",
    "job_df['state_id'][0]\n"
   ]
  },
  {
   "cell_type": "code",
   "execution_count": null,
   "metadata": {},
   "outputs": [],
   "source": [
    "# merge job information with lat & lng\n",
    "merged_df = pd.merge(job_df, lnglat, on=['city', 'state_id'],how='left')\n",
    "\n",
    "# put NYC's lat&lng as default locations for all remote jobs\n",
    "merged_df['lat'] = merged_df['lat'].fillna('40.6943')\n",
    "merged_df['lng'] = merged_df['lng'].fillna('-73.9249')\n",
    "merged_df"
   ]
  },
  {
   "cell_type": "code",
   "execution_count": null,
   "metadata": {},
   "outputs": [],
   "source": [
    "merged_df.to_csv('job_data.csv', index=False)"
   ]
  },
  {
   "cell_type": "code",
   "execution_count": null,
   "metadata": {},
   "outputs": [],
   "source": []
  },
  {
   "cell_type": "code",
   "execution_count": null,
   "metadata": {},
   "outputs": [],
   "source": []
  },
  {
   "cell_type": "code",
   "execution_count": null,
   "metadata": {},
   "outputs": [],
   "source": []
  }
 ],
 "metadata": {
  "kernelspec": {
   "display_name": "Python 3 (ipykernel)",
   "language": "python",
   "name": "python3"
  },
  "language_info": {
   "codemirror_mode": {
    "name": "ipython",
    "version": 3
   },
   "file_extension": ".py",
   "mimetype": "text/x-python",
   "name": "python",
   "nbconvert_exporter": "python",
   "pygments_lexer": "ipython3",
   "version": "3.9.7"
  }
 },
 "nbformat": 4,
 "nbformat_minor": 4
}
