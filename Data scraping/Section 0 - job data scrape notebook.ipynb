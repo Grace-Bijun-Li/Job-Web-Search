{
 "cells": [
  {
   "cell_type": "markdown",
   "metadata": {},
   "source": [
    "Use Beautifulsoup to scrape data from Glassdoor's website"
   ]
  },
  {
   "cell_type": "code",
   "execution_count": null,
   "metadata": {},
   "outputs": [],
   "source": [
    "import requests\n",
    "from bs4 import BeautifulSoup as soup\n",
    "import csv\n",
    "import pandas as pd"
   ]
  },
  {
   "cell_type": "code",
   "execution_count": null,
   "metadata": {},
   "outputs": [],
   "source": [
    "headers = {'user-agent':'Mozilla/5.0 (Macintosh; Intel Mac OS Monterey 12_0_1) AppleWebKit/605.1.15 (KHTML, like Gecko) Version/15.1 Safari/605.1.15'}"
   ]
  },
  {
   "cell_type": "code",
   "execution_count": null,
   "metadata": {},
   "outputs": [],
   "source": [
    "#url = 'https://www.glassdoor.co.in/Job/us-data-analyst-jobs-SRCH_IL.0,2_IN1_KO3,15.htm?seniorityType=entrylevel‘\n",
    "#url = 'https://www.glassdoor.co.in/Job/us-data-analyst-jobs-SRCH_IL.0,2_IN1_KO3,15_IP2.htm?includeNoSalaryJobs=true&seniorityType=entrylevel&pgc=AB4AAYEAHgAAAAAAAAAAAAAAAb5vUkoAOwEBAQ0I5N563hA5Ji4PchTW5p%2FSAfbR7gIZeZUxw0HwbNvxX2N56Jwj3jptiXDqX%2F%2Fz7LBXXuBhLyfTAAA%3D'\n",
    "#url = 'https://www.glassdoor.co.in/Job/us-data-analyst-jobs-SRCH_IL.0,2_IN1_KO3,15_IP3.htm?includeNoSalaryJobs=true&seniorityType=entrylevel&pgc=AB4AAoEAPAAAAAAAAAAAAAAAAb5vUkoAZgECARAoBgHbC0ZT4YUj%2FYBaPpeXgVc1gXcjd9fXyPWUxQOWDq7wZQe28vb6rtQp6oz%2Bsy%2FRtCGSacuQvYgMh3oYk5pCigX4iNBV1vjN5h81IQYQXeNAB6EjdCkygP6DLx4YlU9eGgAA'\n",
    "#url = 'https://www.glassdoor.co.in/Job/us-data-analyst-jobs-SRCH_IL.0,2_IN1_KO3,15_IP4.htm?includeNoSalaryJobs=true&seniorityType=entrylevel&pgc=AB4AA4EAWgAAAAAAAAAAAAAAAb9fgUYAiQECAQ0cEgO7B4jwNmENa8d3WjgXIZbAZMXYvXInFW%2BMfMsXrNL%2FauW07Nv5sZ54EG3cdwh14DhmYMSp231jyryPk9gA6LvwlyWOSYkfIdDLF9SuQzArj80FG6AjEc9xtkAOlgw17LiwhBRB6TNe2y5HDhV5f4h4bHFQzTiBvqXiDhq1uzCkLjoVAAA%3D'\n",
    "#url = 'https://www.glassdoor.co.in/Job/us-data-analyst-jobs-SRCH_IL.0,2_IN1_KO3,15_IP5.htm?includeNoSalaryJobs=true&seniorityType=entrylevel&pgc=AB4ABIEAeAAAAAAAAAAAAAAAAb9fgUYAowEDASFQBiYHCedS%2BelZevr%2BWYaX9UYeIYSlqGGoU7wfjAEVOv0VPS5%2FK0fXuK%2Bq9ZY7vmQLdmkdfh67DzfUrlBxCjGhAnqZeSFlRMLb%2FQXGQG6MNHHZR8401HSJ9HORRzPN1ITQqA9Y%2BXC9JlgthS30wFDNaoJQblO7rn3EMDGlb1Z5jADhYsoHUoIhI%2BPtxWTRUTys4v4DKPB0BExnXjlturIAAA%3D%3D'\n",
    "#url ='https://www.glassdoor.co.in/Job/us-data-analyst-jobs-SRCH_IL.0,2_IN1_KO3,15_IP6.htm?includeNoSalaryJobs=true&seniorityType=entrylevel&pgc=AB4ABYEAlgAAAAAAAAAAAAAAAb9fgUYAwAEEASdQBg4KGAdiM1ofVZbO6dlqPz2jafVjM%2FUup0HF6%2B7vESinfsrMyqxv05MkK%2FYY925DPxZZJ%2BveYBGEM4CWXF7hGC%2BD6%2BWTMkDmZQiqF2RaD5JnkDnipyrTFVS7jI0roT%2BDhoFxVvD%2Bgff9HVUNcTp9pPw6BtdK2XujeKu1GZfF7pPnH40ORUbGVq2KJVHep4nS9Ta8vBkOySP5Mgah100pOAX%2B7Z2GsRjbBdIkJ9SXPbUcnVHpNadpjYc1zgAA'\n",
    "url = 'https://www.glassdoor.co.in/Job/us-data-analyst-jobs-SRCH_IL.0,2_IN1_KO3,15_IP7.htm?includeNoSalaryJobs=true&seniorityType=entrylevel'"
   ]
  },
  {
   "cell_type": "code",
   "execution_count": null,
   "metadata": {
    "scrolled": true
   },
   "outputs": [],
   "source": [
    "html = requests.get(url, headers = headers)\n",
    "html.status_code"
   ]
  },
  {
   "cell_type": "code",
   "execution_count": null,
   "metadata": {},
   "outputs": [],
   "source": [
    "bsobj = soup(html.content,'lxml')\n",
    "bsobj"
   ]
  },
  {
   "cell_type": "markdown",
   "metadata": {},
   "source": [
    "Scrape data of different variables"
   ]
  },
  {
   "cell_type": "code",
   "execution_count": null,
   "metadata": {},
   "outputs": [],
   "source": [
    "company_name = []\n",
    "for company in bsobj.findAll('div',{'class':'d-flex justify-content-between align-items-start'}):\n",
    "    company_name.append(company.a.text.strip())\n",
    "    \n",
    "company_name"
   ]
  },
  {
   "cell_type": "code",
   "execution_count": null,
   "metadata": {},
   "outputs": [],
   "source": [
    "job_title = []\n",
    "for title in bsobj.findAll('div',{'class':'d-flex flex-column pl-sm css-1buaf54 job-search-key-1mn3dn8 e1rrn5ka0'}):\n",
    "    job_title.append(title.findAll('a')[1].text.strip())\n",
    "    \n",
    "job_title"
   ]
  },
  {
   "cell_type": "code",
   "execution_count": null,
   "metadata": {},
   "outputs": [],
   "source": [
    "location = []\n",
    "for i in bsobj.findAll('div',{'class':'d-flex flex-wrap job-search-key-1m2z0go e1rrn5ka2'}):\n",
    "    location.append(i.span.text.strip())\n",
    "    \n",
    "location"
   ]
  },
  {
   "cell_type": "code",
   "execution_count": null,
   "metadata": {},
   "outputs": [],
   "source": [
    "links = []\n",
    "for i in bsobj.findAll('div',{'class':'d-flex flex-column pl-sm css-1buaf54 job-search-key-1mn3dn8 e1rrn5ka0'}):\n",
    "  link = 'https://www.glassdoor.co.in'+ i.a['href']\n",
    "  links.append(link) \n",
    "links"
   ]
  },
  {
   "cell_type": "code",
   "execution_count": null,
   "metadata": {},
   "outputs": [],
   "source": [
    "description = []\n",
    "for link in links:\n",
    "  page = requests.get(link,headers=headers)\n",
    "  bs = soup(page.content,'lxml')\n",
    "  for job in bs.findAll('div',{'id':'JobDescriptionContainer'}):\n",
    "    description.append(job.text.strip())\n",
    "description"
   ]
  },
  {
   "cell_type": "markdown",
   "metadata": {},
   "source": [
    "Export scraped data to csv files"
   ]
  },
  {
   "cell_type": "code",
   "execution_count": null,
   "metadata": {},
   "outputs": [],
   "source": [
    "glassdoor_data_dict = {\n",
    "        \"company_name\": company_name,\n",
    "        \"job_title\": job_title,\n",
    "        \"location\": location,\n",
    "        \"links\": links,\n",
    "        \"description\": description\n",
    "    }\n",
    "\n",
    "glassdoor_data_dict"
   ]
  },
  {
   "cell_type": "code",
   "execution_count": null,
   "metadata": {},
   "outputs": [],
   "source": [
    "df = pd.DataFrame.from_dict(glassdoor_data_dict) \n",
    "#df.to_csv (r'glassdoor.csv', index = False, header=True)\n",
    "#df.to_csv (r'glassdoor2.csv', index = False, header=True)\n",
    "#df.to_csv (r'glassdoor3.csv', index = False, header=True)\n",
    "#df.to_csv (r'glassdoor4.csv', index = False, header=True)\n",
    "#df.to_csv (r'glassdoor5.csv', index = False, header=True)\n",
    "#df.to_csv (r'glassdoor6.csv', index = False, header=True)\n",
    "df.to_csv (r'glassdoor7.csv', index = False, header=True)"
   ]
  },
  {
   "cell_type": "markdown",
   "metadata": {},
   "source": [
    "Combine data into one csv file"
   ]
  },
  {
   "cell_type": "code",
   "execution_count": null,
   "metadata": {},
   "outputs": [],
   "source": [
    "import os"
   ]
  },
  {
   "cell_type": "code",
   "execution_count": null,
   "metadata": {},
   "outputs": [],
   "source": [
    "master_df = pd.DataFrame()"
   ]
  },
  {
   "cell_type": "code",
   "execution_count": null,
   "metadata": {},
   "outputs": [],
   "source": [
    "for file in os.listdir(os.getcwd()):\n",
    "    if file.endswith('.csv'):\n",
    "        master_df = master_df.append(pd.read_csv(file))"
   ]
  },
  {
   "cell_type": "code",
   "execution_count": null,
   "metadata": {},
   "outputs": [],
   "source": [
    "master_df.to_csv('glassdoor_jobs.csv', index=False)"
   ]
  },
  {
   "cell_type": "code",
   "execution_count": null,
   "metadata": {},
   "outputs": [],
   "source": [
    "data = pd.read_csv('glassdoor_jobs.csv')\n",
    "print(data)"
   ]
  },
  {
   "cell_type": "code",
   "execution_count": null,
   "metadata": {
    "scrolled": true
   },
   "outputs": [],
   "source": [
    "data.reset_index(inplace=True)\n",
    "data"
   ]
  },
  {
   "cell_type": "code",
   "execution_count": null,
   "metadata": {},
   "outputs": [],
   "source": [
    "data.to_csv('glassdoor_jobs_with_index.csv', index=False)"
   ]
  }
 ],
 "metadata": {
  "kernelspec": {
   "display_name": "Python 3 (ipykernel)",
   "language": "python",
   "name": "python3"
  },
  "language_info": {
   "codemirror_mode": {
    "name": "ipython",
    "version": 3
   },
   "file_extension": ".py",
   "mimetype": "text/x-python",
   "name": "python",
   "nbconvert_exporter": "python",
   "pygments_lexer": "ipython3",
   "version": "3.9.7"
  }
 },
 "nbformat": 4,
 "nbformat_minor": 5
}
