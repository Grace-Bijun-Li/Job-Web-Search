{
 "cells": [
  {
   "cell_type": "markdown",
   "metadata": {},
   "source": [
    "# **Job Data Web Search Project**"
   ]
  },
  {
   "cell_type": "markdown",
   "metadata": {},
   "source": [
    "## **Section 1 - Design Data Warehouse**"
   ]
  },
  {
   "cell_type": "markdown",
   "metadata": {},
   "source": [
    "### 1-1 Read in Glassdoor Job Dataset"
   ]
  },
  {
   "cell_type": "code",
   "execution_count": 1,
   "metadata": {},
   "outputs": [
    {
     "name": "stdout",
     "output_type": "stream",
     "text": [
      "['index', 'company_name', 'job_title', 'location', 'links', 'description']\n"
     ]
    },
    {
     "data": {
      "text/plain": [
       "6"
      ]
     },
     "execution_count": 1,
     "metadata": {},
     "output_type": "execute_result"
    }
   ],
   "source": [
    "import pandas as pd\n",
    "df = pd.read_csv('glassdoor_jobs_with_index.csv',encoding=\"ISO-8859-1\")\n",
    "\n",
    "# get the column names from the dataframe\n",
    "header = list(df.columns.values)\n",
    "print(header)\n",
    "df.head()\n",
    "len(header)"
   ]
  },
  {
   "cell_type": "markdown",
   "metadata": {},
   "source": [
    "### 1-2  Connect to local PostgreSQL"
   ]
  },
  {
   "cell_type": "code",
   "execution_count": 4,
   "metadata": {},
   "outputs": [],
   "source": [
    "import psycopg2\n",
    "\n",
    "# connect to PostgreSQL server\n",
    "conn = psycopg2.connect(host='localhost', port='5432', dbname='flask_search', \n",
    "                        user='postgres', password='postgres')\n",
    "\n",
    "# Create table name in postgresql\n",
    "pgTable = \"info\""
   ]
  },
  {
   "cell_type": "markdown",
   "metadata": {},
   "source": [
    "### 1-3 Design the Table Schema"
   ]
  },
  {
   "cell_type": "code",
   "execution_count": 5,
   "metadata": {},
   "outputs": [
    {
     "name": "stdout",
     "output_type": "stream",
     "text": [
      "CREATE TABLE IF NOT EXISTS info (index int PRIMARY KEY, company_name varchar(100),job_title varchar(500),location varchar(500),links varchar(10000),description varchar(10000));\n"
     ]
    }
   ],
   "source": [
    "# get cursor object from db connection\n",
    "cursor = conn.cursor()\n",
    "\n",
    "# create table statement using same pandas header for column name\n",
    "sqlCreateTable = \"CREATE TABLE IF NOT EXISTS \"+pgTable+\" (\"\\\n",
    "\"{0} int PRIMARY KEY, \"\\\n",
    "\"{1} varchar(100),\"\\\n",
    "\"{2} varchar(500),\"\\\n",
    "\"{3} varchar(500),\"\\\n",
    "\"{4} varchar(10000),\"\\\n",
    "\"{5} varchar(10000));\".format(*header) # unpack the list of header to format sql string\n",
    "print(sqlCreateTable)\n",
    "\n",
    "# execute table creation\n",
    "cursor.execute(sqlCreateTable)\n",
    "conn.commit()\n",
    "cursor.close()"
   ]
  },
  {
   "cell_type": "markdown",
   "metadata": {},
   "source": [
    "### 1-4 Insert the Job Data into PostgreSQL"
   ]
  },
  {
   "cell_type": "code",
   "execution_count": 6,
   "metadata": {},
   "outputs": [
    {
     "name": "stdout",
     "output_type": "stream",
     "text": [
      "INSERT INTO info(index,company_name,job_title,location,links,description) VALUES (%s,%s,%s,%s,%s,%s)\n",
      "Finish data insertion\n"
     ]
    }
   ],
   "source": [
    "import psycopg2.extras as extras\n",
    "\n",
    "def pd2pg(conn, df, table):\n",
    "    \"\"\"\n",
    "    Transform Pandas dataframe to postgres table\n",
    "    \"\"\"\n",
    "    # convert dataframe values to tuple\n",
    "    tuples = [tuple(x) for x in df.to_numpy()]    \n",
    "    columns = ','.join(list(df.columns))\n",
    "    # generate a list of placeholders to create query string\n",
    "    placeholders = \",\".join(['%s' for i in range(len(header))])\n",
    "    # query string\n",
    "    query  = \"INSERT INTO %s(%s) VALUES (%s)\" % (table, columns, placeholders)\n",
    "    print(query)    \n",
    "    cursor = conn.cursor()\n",
    "    try:\n",
    "        cursor.executemany(query, tuples)\n",
    "        conn.commit()\n",
    "    except (Exception, psycopg2.DatabaseError) as error:\n",
    "        print(\"Error: %s\" % error)\n",
    "        conn.rollback()\n",
    "        cursor.close()\n",
    "        return 1\n",
    "    print(\"Finish data insertion\")\n",
    "    cursor.close()\n",
    "\n",
    "# execute data insert\n",
    "pd2pg(conn, df, pgTable)"
   ]
  },
  {
   "cell_type": "code",
   "execution_count": null,
   "metadata": {},
   "outputs": [],
   "source": []
  }
 ],
 "metadata": {
  "kernelspec": {
   "display_name": "Python 3 (ipykernel)",
   "language": "python",
   "name": "python3"
  },
  "language_info": {
   "codemirror_mode": {
    "name": "ipython",
    "version": 3
   },
   "file_extension": ".py",
   "mimetype": "text/x-python",
   "name": "python",
   "nbconvert_exporter": "python",
   "pygments_lexer": "ipython3",
   "version": "3.9.7"
  }
 },
 "nbformat": 4,
 "nbformat_minor": 5
}
